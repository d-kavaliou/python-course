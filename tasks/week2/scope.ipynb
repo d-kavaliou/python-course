{
 "cells": [
  {
   "cell_type": "markdown",
   "id": "c074b022",
   "metadata": {},
   "source": [
    "# Function Scope\n",
    "This lesson will highlight some important things to know about a function's scope.\n",
    "\n",
    "## Overview\n",
    "- **Data Lifecycle**\n",
    "- **Altering Data**\n",
    "\n",
    "The scope of a function means the extent to which the variables and other data items made inside the function are accessible in code.\n"
   ]
  },
  {
   "cell_type": "markdown",
   "id": "64bfc2e7",
   "metadata": {},
   "source": [
    "## Data Lifecycle\n",
    "In Python, data created inside the function cannot be used from the outside unless it is returned from the function.\n",
    "\n",
    "Variables in a function are isolated from the rest of the program. When the function ends, they are released from memory and cannot be recovered.\n",
    "\n",
    "### Example\n",
    "The following code demonstrates that trying to access a variable defined inside a function from outside the function will lead to an error.\n"
   ]
  },
  {
   "cell_type": "code",
   "execution_count": null,
   "id": "092d5e64",
   "metadata": {},
   "outputs": [],
   "source": [
    "\n",
    "def func():\n",
    "    name = \"Stark\"\n",
    "\n",
    "func()\n",
    "try:\n",
    "    print(name)  # Accessing 'name' outside the function will raise an error\n",
    "except NameError as e:\n",
    "    print(e)\n"
   ]
  },
  {
   "cell_type": "markdown",
   "id": "2b51b506",
   "metadata": {},
   "source": [
    "## Altering Data\n",
    "When mutable data is passed to a function, the function can modify or alter it. These modifications will stay in effect outside the function scope as well.\n",
    "\n",
    "### Example with Mutable Data\n",
    "Let's try updating a mutable object (list) through a function.\n"
   ]
  },
  {
   "cell_type": "code",
   "execution_count": null,
   "id": "3f8f6838",
   "metadata": {},
   "outputs": [],
   "source": [
    "\n",
    "num_list = [10, 20, 30, 40]\n",
    "print(\"Before modification:\", num_list)\n",
    "\n",
    "def multiply_by_10(my_list):\n",
    "    for i in range(len(my_list)):\n",
    "        my_list[i] *= 10\n",
    "\n",
    "multiply_by_10(num_list)\n",
    "print(\"After modification:\", num_list)  # The contents of the list have been changed\n"
   ]
  },
  {
   "cell_type": "markdown",
   "id": "c74ed5a9",
   "metadata": {},
   "source": [
    "### Example with Immutable Data\n",
    "Now, let's try to change the value of an integer (which is immutable) inside a function.\n"
   ]
  },
  {
   "cell_type": "code",
   "execution_count": null,
   "id": "56f98206",
   "metadata": {},
   "outputs": [],
   "source": [
    "\n",
    "num = 20\n",
    "\n",
    "def multiply_by_10(n):\n",
    "    n *= 10\n",
    "    print(\"Value of num inside function:\", n)\n",
    "    return n\n",
    "\n",
    "result = multiply_by_10(num)\n",
    "print(\"Value of num outside function:\", num)  # The original value remains unchanged\n",
    "print(\"Returned value:\", result)\n"
   ]
  }
 ],
 "metadata": {},
 "nbformat": 4,
 "nbformat_minor": 5
}
