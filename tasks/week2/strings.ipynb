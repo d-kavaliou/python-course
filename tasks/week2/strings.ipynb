{
 "cells": [
  {
   "cell_type": "markdown",
   "id": "ea1638d2",
   "metadata": {},
   "source": [
    "\n",
    "# Built-In String Functions\n",
    "\n",
    "In this lesson, we'll explore some of the built-in functions offered by Python, focusing on string manipulation.\n"
   ]
  },
  {
   "cell_type": "markdown",
   "id": "33b5a95d",
   "metadata": {},
   "source": [
    "\n",
    "## Overview\n",
    "\n",
    "Topics covered include:\n",
    "- **Strings**\n",
    "- **Search**\n",
    "- **Replace**\n",
    "- **Changing the Letter Case**\n",
    "- **Joining Strings**\n",
    "- **Formatting**\n"
   ]
  },
  {
   "cell_type": "markdown",
   "id": "292a2ebd",
   "metadata": {},
   "source": [
    "\n",
    "## Strings\n",
    "\n",
    "Python provides several methods associated with string data types. These methods are accessible using the `.` operator and can greatly simplify common string manipulation tasks.\n"
   ]
  },
  {
   "cell_type": "markdown",
   "id": "b7bc068a",
   "metadata": {},
   "source": [
    "\n",
    "## Search\n",
    "\n",
    "The `find()` method searches for a substring within a string and returns the first index at which it occurs. If the substring is not found, it returns `-1`, a conventional value indicating a failure when an output is expected to be positive.\n",
    "\n",
    "### Example Usage\n"
   ]
  },
  {
   "cell_type": "code",
   "execution_count": null,
   "id": "c9480c58",
   "metadata": {},
   "outputs": [],
   "source": [
    "\n",
    "random_string = \"This is a string\"\n",
    "print(random_string.find(\"is\"))  # Output: 2\n",
    "print(random_string.find(\"is\", 9, 13))  # Output: -1\n"
   ]
  },
  {
   "cell_type": "markdown",
   "id": "91871e90",
   "metadata": {},
   "source": [
    "\n",
    "## Replace\n",
    "\n",
    "To replace parts of a string with another string, use the `replace()` method. It creates a new string with the specified parts replaced and does not modify the original string.\n",
    "\n",
    "### Example Usage\n"
   ]
  },
  {
   "cell_type": "code",
   "execution_count": null,
   "id": "1e9e50ec",
   "metadata": {},
   "outputs": [],
   "source": [
    "\n",
    "a_string = \"Welcome to Educative!\"\n",
    "new_string = a_string.replace(\"Welcome to\", \"Greetings from\")\n",
    "print(a_string)  # Outputs the original string\n",
    "print(new_string)  # Outputs the modified string\n"
   ]
  },
  {
   "cell_type": "markdown",
   "id": "2b4ac580",
   "metadata": {},
   "source": [
    "\n",
    "## Changing the Letter Case\n",
    "\n",
    "String case can be altered using `upper()` and `lower()` methods for uppercase and lowercase transformations respectively.\n",
    "\n",
    "### Example Usage\n"
   ]
  },
  {
   "cell_type": "code",
   "execution_count": null,
   "id": "cef59ce7",
   "metadata": {},
   "outputs": [],
   "source": [
    "\n",
    "print(\"UpperCase\".upper())  # UPPERCASE\n",
    "print(\"LowerCase\".lower())  # lowercase\n"
   ]
  },
  {
   "cell_type": "markdown",
   "id": "87a4a95a",
   "metadata": {},
   "source": [
    "\n",
    "## Joining Strings\n",
    "\n",
    "The `join()` method concatenates a list of strings into a single string, interspersed with a specified separator.\n",
    "\n",
    "### Example Usage\n"
   ]
  },
  {
   "cell_type": "code",
   "execution_count": null,
   "id": "bdac6680",
   "metadata": {},
   "outputs": [],
   "source": [
    "\n",
    "llist = ['a', 'b', 'c']\n",
    "print('>>'.join(llist))  # a>>b>>c\n",
    "print('<<'.join(llist))  # a<<b<<c\n",
    "print(', '.join(llist))  # a, b, c\n"
   ]
  },
  {
   "cell_type": "markdown",
   "id": "4fabacdd",
   "metadata": {},
   "source": [
    "\n",
    "## Formatting\n",
    "\n",
    "The `format()` method inserts specified values into a string’s placeholders. Placeholders can be identified using named indexes, numbered indexes, or empty placeholders.\n",
    "\n",
    "### Example Usage\n"
   ]
  },
  {
   "cell_type": "code",
   "execution_count": null,
   "id": "df44d4e3",
   "metadata": {},
   "outputs": [],
   "source": [
    "\n",
    "string1 = \"Learn Python {version} at {cname}\".format(version=3, cname=\"Educative\")\n",
    "string2 = \"Learn Python {0} at {1}\".format(3, \"Educative\")\n",
    "string3 = \"Learn Python {} at {}\".format(3, \"Educative\")\n",
    "print(string1)  # Learn Python 3 at Educative\n",
    "print(string2)  # Learn Python 3 at Educative\n",
    "print(string3)  # Learn Python 3 at Educative\n"
   ]
  }
 ],
 "metadata": {},
 "nbformat": 4,
 "nbformat_minor": 5
}
