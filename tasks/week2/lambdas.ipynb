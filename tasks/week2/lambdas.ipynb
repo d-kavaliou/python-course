{
 "cells": [
  {
   "cell_type": "markdown",
   "id": "0c3ff3bc",
   "metadata": {},
   "source": [
    "# Lambdas\n",
    "In this lesson, we'll study a unique category of functions called lambda.\n",
    "\n",
    "## Overview\n",
    "- **Definition**\n",
    "- **Syntax**\n",
    "- **The Purpose of Lambdas**\n"
   ]
  },
  {
   "cell_type": "markdown",
   "id": "8852beb6",
   "metadata": {},
   "source": [
    "## Definition\n",
    "A lambda is an anonymous function that returns some form of data. Lambdas are defined using the `lambda` keyword. It is a good practice to assign them to a variable since they return data.\n"
   ]
  },
  {
   "cell_type": "markdown",
   "id": "ecfa8a85",
   "metadata": {},
   "source": [
    "## Syntax\n",
    "The general syntax for creating lambdas is as follows:\n",
    "\n",
    "```\n",
    "lambda parameters: expression\n",
    "```\n",
    "\n",
    "Parameters are optional and separated by commas. The expression is a single-line operation that returns something.\n"
   ]
  },
  {
   "cell_type": "markdown",
   "id": "128ce05c",
   "metadata": {},
   "source": [
    "## Examples\n",
    "Let's try creating a few simple lambdas.\n"
   ]
  },
  {
   "cell_type": "code",
   "execution_count": null,
   "id": "54d80bb1",
   "metadata": {},
   "outputs": [],
   "source": [
    "\n",
    "# A lambda that triples the value of a parameter\n",
    "triple = lambda num: num * 3\n",
    "print(triple(10))  # Output: 30\n",
    "\n",
    "# A lambda that concatenates the first characters of three strings\n",
    "concat_strings = lambda a, b, c: a[0] + b[0] + c[0]\n",
    "print(concat_strings(\"World\", \"Wide\", \"Web\"))  # Output: WWW\n"
   ]
  },
  {
   "cell_type": "markdown",
   "id": "9e5a9956",
   "metadata": {},
   "source": [
    "## Using Conditional Statements in Lambdas\n",
    "Lambdas can also use conditional statements within their expressions.\n"
   ]
  },
  {
   "cell_type": "code",
   "execution_count": null,
   "id": "c0a5befc",
   "metadata": {},
   "outputs": [],
   "source": [
    "\n",
    "# A lambda with a conditional statement\n",
    "my_func = lambda num: \"High\" if num > 50 else \"Low\"\n",
    "print(my_func(60))  # Output: High\n",
    "print(my_func(20))  # Output: Low\n"
   ]
  },
  {
   "cell_type": "markdown",
   "id": "0d38639e",
   "metadata": {},
   "source": [
    "## The Purpose of Lambdas\n",
    "Lambdas are particularly useful when a function requires another function as its argument. They can be written inline and used for short, single-line functions that do not require elaborate logic.\n"
   ]
  }
 ],
 "metadata": {},
 "nbformat": 4,
 "nbformat_minor": 5
}
