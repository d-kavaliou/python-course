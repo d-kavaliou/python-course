{
 "cells": [
  {
   "cell_type": "markdown",
   "id": "ac4d7d59",
   "metadata": {},
   "source": [
    "# Functions as Arguments\n",
    "This lesson teaches us how to use functions as parameters for other functions.\n",
    "\n",
    "## Overview\n",
    "- **Using Simple Functions**\n",
    "- **Using Lambdas**\n",
    "- **More Examples**\n"
   ]
  },
  {
   "cell_type": "markdown",
   "id": "7aaeacad",
   "metadata": {},
   "source": [
    "## Using Simple Functions\n",
    "In Python, one function can become an argument for another function. This allows for modular and reusable code designs.\n"
   ]
  },
  {
   "cell_type": "code",
   "execution_count": null,
   "id": "abdc7769",
   "metadata": {},
   "outputs": [],
   "source": [
    "\n",
    "# Define basic arithmetic functions\n",
    "def add(n1, n2):\n",
    "    return n1 + n2\n",
    "\n",
    "def subtract(n1, n2):\n",
    "    return n1 - n2\n",
    "\n",
    "def multiply(n1, n2):\n",
    "    return n1 * n2\n",
    "\n",
    "def divide(n1, n2):\n",
    "    return n1 / n2\n",
    "\n",
    "# Calculator function that takes another function as an argument\n",
    "def calculator(operation, n1, n2):\n",
    "    return operation(n1, n2)\n",
    "\n",
    "# Using the calculator with different operations\n",
    "print(calculator(add, 10, 20))\n",
    "print(calculator(divide, 10, 20))\n"
   ]
  },
  {
   "cell_type": "markdown",
   "id": "6ddc2ea8",
   "metadata": {},
   "source": [
    "## Using Lambdas\n",
    "Instead of defining separate functions for simple operations, we can use lambdas directly in the calculator.\n"
   ]
  },
  {
   "cell_type": "code",
   "execution_count": null,
   "id": "0073e5f4",
   "metadata": {},
   "outputs": [],
   "source": [
    "\n",
    "# Redefining the calculator function to use with lambdas\n",
    "calculator = lambda operation, n1, n2: operation(n1, n2)\n",
    "\n",
    "# Examples of using lambdas with the calculator\n",
    "print(calculator(lambda x, y: x + y, 10, 20))  # Add\n",
    "print(calculator(lambda x, y: x * y, 10, 20))  # Multiply\n"
   ]
  },
  {
   "cell_type": "markdown",
   "id": "a7ad330f",
   "metadata": {},
   "source": [
    "## More Examples\n",
    "Using the `map()` and `filter()` functions with lambdas to process collections.\n"
   ]
  },
  {
   "cell_type": "code",
   "execution_count": null,
   "id": "05058207",
   "metadata": {},
   "outputs": [],
   "source": [
    "\n",
    "# Using map with a lambda to double the values in a list\n",
    "num_list = [0, 1, 2, 3, 4, 5]\n",
    "double_list = map(lambda n: n * 2, num_list)\n",
    "print(list(double_list))\n",
    "\n",
    "# Using filter with a lambda to find elements greater than 10\n",
    "numList = [30, 2, -15, 17, 9, 100]\n",
    "greater_than_10 = list(filter(lambda n: n > 10, numList))\n",
    "print(greater_than_10)\n"
   ]
  }
 ],
 "metadata": {},
 "nbformat": 4,
 "nbformat_minor": 5
}
